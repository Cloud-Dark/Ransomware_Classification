{
  "cells": [
    {
      "cell_type": "markdown",
      "metadata": {
        "id": "view-in-github",
        "colab_type": "text"
      },
      "source": [
        "<a href=\"https://colab.research.google.com/github/Cloud-Dark/Ransomware_Classification/blob/main/Ransomware_Classification_(6).ipynb\" target=\"_parent\"><img src=\"https://colab.research.google.com/assets/colab-badge.svg\" alt=\"Open In Colab\"/></a>"
      ]
    },
    {
      "cell_type": "code",
      "execution_count": null,
      "metadata": {
        "id": "iOKLAQxYpf7J"
      },
      "outputs": [],
      "source": [
        "import pandas as pd\n",
        "import numpy as np"
      ]
    },
    {
      "cell_type": "code",
      "source": [
        "! python ‐‐version "
      ],
      "metadata": {
        "colab": {
          "base_uri": "https://localhost:8080/"
        },
        "id": "sAu3wNR_mk1J",
        "outputId": "4dac3b08-1212-4e80-e5db-dd2f5cf80b31"
      },
      "execution_count": null,
      "outputs": [
        {
          "output_type": "stream",
          "name": "stdout",
          "text": [
            "python3: can't open file '‐‐version': [Errno 2] No such file or directory\n"
          ]
        }
      ]
    },
    {
      "cell_type": "code",
      "source": [],
      "metadata": {
        "id": "G8hzQlrLxqjv"
      },
      "execution_count": null,
      "outputs": []
    },
    {
      "cell_type": "code",
      "execution_count": null,
      "metadata": {
        "id": "WFc96B7br6V1"
      },
      "outputs": [],
      "source": [
        "# from google.colab import drive\n",
        "# drive.mount('/content/drive')\n",
        "# root_path = '/content/drive/MyDrive/irhammaulani/Kuliah/S2/KBJ/tugas_paper'"
      ]
    },
    {
      "cell_type": "code",
      "execution_count": null,
      "metadata": {
        "id": "Xx5dwm4csXAA"
      },
      "outputs": [],
      "source": [
        "# data = pd.read_csv(\"/content/drive/MyDrive/irhammaulani/Kuliah/S2/KBJ/tugas_paper/BitcoinHeistData.csv\", delimiter = \",\")"
      ]
    },
    {
      "cell_type": "code",
      "source": [
        "!wget https://archive.ics.uci.edu/ml/machine-learning-databases/00526/data.zip\n",
        "!unzip data.zip\n",
        "!sudo pip install imbalanced-learn"
      ],
      "metadata": {
        "colab": {
          "base_uri": "https://localhost:8080/"
        },
        "id": "v8jp1D1NLtbJ",
        "outputId": "515ef020-8b45-4347-b769-9025333d82c8"
      },
      "execution_count": null,
      "outputs": [
        {
          "output_type": "stream",
          "name": "stdout",
          "text": [
            "--2022-11-07 15:59:04--  https://archive.ics.uci.edu/ml/machine-learning-databases/00526/data.zip\n",
            "Resolving archive.ics.uci.edu (archive.ics.uci.edu)... 128.195.10.252\n",
            "Connecting to archive.ics.uci.edu (archive.ics.uci.edu)|128.195.10.252|:443... connected.\n",
            "HTTP request sent, awaiting response... 200 OK\n",
            "Length: 116104947 (111M) [application/x-httpd-php]\n",
            "Saving to: ‘data.zip’\n",
            "\n",
            "data.zip            100%[===================>] 110.73M  20.3MB/s    in 6.2s    \n",
            "\n",
            "2022-11-07 15:59:11 (17.9 MB/s) - ‘data.zip’ saved [116104947/116104947]\n",
            "\n",
            "Archive:  data.zip\n",
            "  inflating: BitcoinHeistData.csv    \n",
            "Looking in indexes: https://pypi.org/simple, https://us-python.pkg.dev/colab-wheels/public/simple/\n",
            "Requirement already satisfied: imbalanced-learn in /usr/local/lib/python3.7/dist-packages (0.8.1)\n",
            "Requirement already satisfied: scipy>=0.19.1 in /usr/local/lib/python3.7/dist-packages (from imbalanced-learn) (1.7.3)\n",
            "Requirement already satisfied: numpy>=1.13.3 in /usr/local/lib/python3.7/dist-packages (from imbalanced-learn) (1.21.6)\n",
            "Requirement already satisfied: scikit-learn>=0.24 in /usr/local/lib/python3.7/dist-packages (from imbalanced-learn) (1.0.2)\n",
            "Requirement already satisfied: joblib>=0.11 in /usr/local/lib/python3.7/dist-packages (from imbalanced-learn) (1.2.0)\n",
            "Requirement already satisfied: threadpoolctl>=2.0.0 in /usr/local/lib/python3.7/dist-packages (from scikit-learn>=0.24->imbalanced-learn) (3.1.0)\n"
          ]
        }
      ]
    },
    {
      "cell_type": "code",
      "source": [
        "data = pd.read_csv(\"BitcoinHeistData.csv\", delimiter = \",\")"
      ],
      "metadata": {
        "id": "__DadNUXL7Ja"
      },
      "execution_count": null,
      "outputs": []
    },
    {
      "cell_type": "code",
      "execution_count": null,
      "metadata": {
        "colab": {
          "base_uri": "https://localhost:8080/",
          "height": 206
        },
        "id": "3samrb4WNor5",
        "outputId": "f99d4a32-652e-41b4-9e83-7201d89ffaba"
      },
      "outputs": [
        {
          "output_type": "execute_result",
          "data": {
            "text/plain": [
              "                              address  year  day  length    weight  count  \\\n",
              "0   111K8kZAEnJg245r2cM6y9zgJGHZtJPy6  2017   11      18  0.008333      1   \n",
              "1  1123pJv8jzeFQaCV4w644pzQJzVWay2zcA  2016  132      44  0.000244      1   \n",
              "2  112536im7hy6wtKbpH1qYDWtTyMRAcA2p7  2016  246       0  1.000000      1   \n",
              "3  1126eDRw2wqSkWosjTCre8cjjQW8sSeWH7  2016  322      72  0.003906      1   \n",
              "4  1129TSjKtx65E35GiUo4AYVeyo48twbrGX  2016  238     144  0.072848    456   \n",
              "\n",
              "   looped  neighbors       income            label  \n",
              "0       0          2  100050000.0  princetonCerber  \n",
              "1       0          1  100000000.0   princetonLocky  \n",
              "2       0          2  200000000.0  princetonCerber  \n",
              "3       0          2   71200000.0  princetonCerber  \n",
              "4       0          1  200000000.0   princetonLocky  "
            ],
            "text/html": [
              "\n",
              "  <div id=\"df-5a0ee23f-f1c8-46d0-bb49-3a60b339bfe2\">\n",
              "    <div class=\"colab-df-container\">\n",
              "      <div>\n",
              "<style scoped>\n",
              "    .dataframe tbody tr th:only-of-type {\n",
              "        vertical-align: middle;\n",
              "    }\n",
              "\n",
              "    .dataframe tbody tr th {\n",
              "        vertical-align: top;\n",
              "    }\n",
              "\n",
              "    .dataframe thead th {\n",
              "        text-align: right;\n",
              "    }\n",
              "</style>\n",
              "<table border=\"1\" class=\"dataframe\">\n",
              "  <thead>\n",
              "    <tr style=\"text-align: right;\">\n",
              "      <th></th>\n",
              "      <th>address</th>\n",
              "      <th>year</th>\n",
              "      <th>day</th>\n",
              "      <th>length</th>\n",
              "      <th>weight</th>\n",
              "      <th>count</th>\n",
              "      <th>looped</th>\n",
              "      <th>neighbors</th>\n",
              "      <th>income</th>\n",
              "      <th>label</th>\n",
              "    </tr>\n",
              "  </thead>\n",
              "  <tbody>\n",
              "    <tr>\n",
              "      <th>0</th>\n",
              "      <td>111K8kZAEnJg245r2cM6y9zgJGHZtJPy6</td>\n",
              "      <td>2017</td>\n",
              "      <td>11</td>\n",
              "      <td>18</td>\n",
              "      <td>0.008333</td>\n",
              "      <td>1</td>\n",
              "      <td>0</td>\n",
              "      <td>2</td>\n",
              "      <td>100050000.0</td>\n",
              "      <td>princetonCerber</td>\n",
              "    </tr>\n",
              "    <tr>\n",
              "      <th>1</th>\n",
              "      <td>1123pJv8jzeFQaCV4w644pzQJzVWay2zcA</td>\n",
              "      <td>2016</td>\n",
              "      <td>132</td>\n",
              "      <td>44</td>\n",
              "      <td>0.000244</td>\n",
              "      <td>1</td>\n",
              "      <td>0</td>\n",
              "      <td>1</td>\n",
              "      <td>100000000.0</td>\n",
              "      <td>princetonLocky</td>\n",
              "    </tr>\n",
              "    <tr>\n",
              "      <th>2</th>\n",
              "      <td>112536im7hy6wtKbpH1qYDWtTyMRAcA2p7</td>\n",
              "      <td>2016</td>\n",
              "      <td>246</td>\n",
              "      <td>0</td>\n",
              "      <td>1.000000</td>\n",
              "      <td>1</td>\n",
              "      <td>0</td>\n",
              "      <td>2</td>\n",
              "      <td>200000000.0</td>\n",
              "      <td>princetonCerber</td>\n",
              "    </tr>\n",
              "    <tr>\n",
              "      <th>3</th>\n",
              "      <td>1126eDRw2wqSkWosjTCre8cjjQW8sSeWH7</td>\n",
              "      <td>2016</td>\n",
              "      <td>322</td>\n",
              "      <td>72</td>\n",
              "      <td>0.003906</td>\n",
              "      <td>1</td>\n",
              "      <td>0</td>\n",
              "      <td>2</td>\n",
              "      <td>71200000.0</td>\n",
              "      <td>princetonCerber</td>\n",
              "    </tr>\n",
              "    <tr>\n",
              "      <th>4</th>\n",
              "      <td>1129TSjKtx65E35GiUo4AYVeyo48twbrGX</td>\n",
              "      <td>2016</td>\n",
              "      <td>238</td>\n",
              "      <td>144</td>\n",
              "      <td>0.072848</td>\n",
              "      <td>456</td>\n",
              "      <td>0</td>\n",
              "      <td>1</td>\n",
              "      <td>200000000.0</td>\n",
              "      <td>princetonLocky</td>\n",
              "    </tr>\n",
              "  </tbody>\n",
              "</table>\n",
              "</div>\n",
              "      <button class=\"colab-df-convert\" onclick=\"convertToInteractive('df-5a0ee23f-f1c8-46d0-bb49-3a60b339bfe2')\"\n",
              "              title=\"Convert this dataframe to an interactive table.\"\n",
              "              style=\"display:none;\">\n",
              "        \n",
              "  <svg xmlns=\"http://www.w3.org/2000/svg\" height=\"24px\"viewBox=\"0 0 24 24\"\n",
              "       width=\"24px\">\n",
              "    <path d=\"M0 0h24v24H0V0z\" fill=\"none\"/>\n",
              "    <path d=\"M18.56 5.44l.94 2.06.94-2.06 2.06-.94-2.06-.94-.94-2.06-.94 2.06-2.06.94zm-11 1L8.5 8.5l.94-2.06 2.06-.94-2.06-.94L8.5 2.5l-.94 2.06-2.06.94zm10 10l.94 2.06.94-2.06 2.06-.94-2.06-.94-.94-2.06-.94 2.06-2.06.94z\"/><path d=\"M17.41 7.96l-1.37-1.37c-.4-.4-.92-.59-1.43-.59-.52 0-1.04.2-1.43.59L10.3 9.45l-7.72 7.72c-.78.78-.78 2.05 0 2.83L4 21.41c.39.39.9.59 1.41.59.51 0 1.02-.2 1.41-.59l7.78-7.78 2.81-2.81c.8-.78.8-2.07 0-2.86zM5.41 20L4 18.59l7.72-7.72 1.47 1.35L5.41 20z\"/>\n",
              "  </svg>\n",
              "      </button>\n",
              "      \n",
              "  <style>\n",
              "    .colab-df-container {\n",
              "      display:flex;\n",
              "      flex-wrap:wrap;\n",
              "      gap: 12px;\n",
              "    }\n",
              "\n",
              "    .colab-df-convert {\n",
              "      background-color: #E8F0FE;\n",
              "      border: none;\n",
              "      border-radius: 50%;\n",
              "      cursor: pointer;\n",
              "      display: none;\n",
              "      fill: #1967D2;\n",
              "      height: 32px;\n",
              "      padding: 0 0 0 0;\n",
              "      width: 32px;\n",
              "    }\n",
              "\n",
              "    .colab-df-convert:hover {\n",
              "      background-color: #E2EBFA;\n",
              "      box-shadow: 0px 1px 2px rgba(60, 64, 67, 0.3), 0px 1px 3px 1px rgba(60, 64, 67, 0.15);\n",
              "      fill: #174EA6;\n",
              "    }\n",
              "\n",
              "    [theme=dark] .colab-df-convert {\n",
              "      background-color: #3B4455;\n",
              "      fill: #D2E3FC;\n",
              "    }\n",
              "\n",
              "    [theme=dark] .colab-df-convert:hover {\n",
              "      background-color: #434B5C;\n",
              "      box-shadow: 0px 1px 3px 1px rgba(0, 0, 0, 0.15);\n",
              "      filter: drop-shadow(0px 1px 2px rgba(0, 0, 0, 0.3));\n",
              "      fill: #FFFFFF;\n",
              "    }\n",
              "  </style>\n",
              "\n",
              "      <script>\n",
              "        const buttonEl =\n",
              "          document.querySelector('#df-5a0ee23f-f1c8-46d0-bb49-3a60b339bfe2 button.colab-df-convert');\n",
              "        buttonEl.style.display =\n",
              "          google.colab.kernel.accessAllowed ? 'block' : 'none';\n",
              "\n",
              "        async function convertToInteractive(key) {\n",
              "          const element = document.querySelector('#df-5a0ee23f-f1c8-46d0-bb49-3a60b339bfe2');\n",
              "          const dataTable =\n",
              "            await google.colab.kernel.invokeFunction('convertToInteractive',\n",
              "                                                     [key], {});\n",
              "          if (!dataTable) return;\n",
              "\n",
              "          const docLinkHtml = 'Like what you see? Visit the ' +\n",
              "            '<a target=\"_blank\" href=https://colab.research.google.com/notebooks/data_table.ipynb>data table notebook</a>'\n",
              "            + ' to learn more about interactive tables.';\n",
              "          element.innerHTML = '';\n",
              "          dataTable['output_type'] = 'display_data';\n",
              "          await google.colab.output.renderOutput(dataTable, element);\n",
              "          const docLink = document.createElement('div');\n",
              "          docLink.innerHTML = docLinkHtml;\n",
              "          element.appendChild(docLink);\n",
              "        }\n",
              "      </script>\n",
              "    </div>\n",
              "  </div>\n",
              "  "
            ]
          },
          "metadata": {},
          "execution_count": 4
        }
      ],
      "source": [
        "data.head()"
      ]
    },
    {
      "cell_type": "code",
      "execution_count": null,
      "metadata": {
        "colab": {
          "base_uri": "https://localhost:8080/",
          "height": 206
        },
        "id": "2F0lBgNrtKPK",
        "outputId": "05e87804-b99b-40ec-8803-846f4fc6e70e"
      },
      "outputs": [
        {
          "output_type": "execute_result",
          "data": {
            "text/plain": [
              "                                    address  year  day  length     weight  \\\n",
              "2916692  12D3trgho1vJ4mGtWBRPyHdMJK96TRYSry  2018  330       0   0.111111   \n",
              "2916693  1P7PputTcVkhXBmXBvSD9MJ3UYPsiou1u2  2018  330       0   1.000000   \n",
              "2916694  1KYiKJEfdJtap9QX2v9BXJMpz2SfU4pgZw  2018  330       2  12.000000   \n",
              "2916695  15iPUJsRNZQZHmZZVwmQ63srsmughCXV4a  2018  330       0   0.500000   \n",
              "2916696  3LFFBxp15h9KSFtaw55np8eP5fv6kdK17e  2018  330     144   0.073972   \n",
              "\n",
              "         count  looped  neighbors        income  label  \n",
              "2916692      1       0          1  1.255809e+09  white  \n",
              "2916693      1       0          1  4.409699e+07  white  \n",
              "2916694      6       6         35  2.398267e+09  white  \n",
              "2916695      1       0          1  1.780427e+08  white  \n",
              "2916696   6800       0          2  1.123500e+08  white  "
            ],
            "text/html": [
              "\n",
              "  <div id=\"df-bba7bd46-7d5a-4732-a6c4-71c262ccad3f\">\n",
              "    <div class=\"colab-df-container\">\n",
              "      <div>\n",
              "<style scoped>\n",
              "    .dataframe tbody tr th:only-of-type {\n",
              "        vertical-align: middle;\n",
              "    }\n",
              "\n",
              "    .dataframe tbody tr th {\n",
              "        vertical-align: top;\n",
              "    }\n",
              "\n",
              "    .dataframe thead th {\n",
              "        text-align: right;\n",
              "    }\n",
              "</style>\n",
              "<table border=\"1\" class=\"dataframe\">\n",
              "  <thead>\n",
              "    <tr style=\"text-align: right;\">\n",
              "      <th></th>\n",
              "      <th>address</th>\n",
              "      <th>year</th>\n",
              "      <th>day</th>\n",
              "      <th>length</th>\n",
              "      <th>weight</th>\n",
              "      <th>count</th>\n",
              "      <th>looped</th>\n",
              "      <th>neighbors</th>\n",
              "      <th>income</th>\n",
              "      <th>label</th>\n",
              "    </tr>\n",
              "  </thead>\n",
              "  <tbody>\n",
              "    <tr>\n",
              "      <th>2916692</th>\n",
              "      <td>12D3trgho1vJ4mGtWBRPyHdMJK96TRYSry</td>\n",
              "      <td>2018</td>\n",
              "      <td>330</td>\n",
              "      <td>0</td>\n",
              "      <td>0.111111</td>\n",
              "      <td>1</td>\n",
              "      <td>0</td>\n",
              "      <td>1</td>\n",
              "      <td>1.255809e+09</td>\n",
              "      <td>white</td>\n",
              "    </tr>\n",
              "    <tr>\n",
              "      <th>2916693</th>\n",
              "      <td>1P7PputTcVkhXBmXBvSD9MJ3UYPsiou1u2</td>\n",
              "      <td>2018</td>\n",
              "      <td>330</td>\n",
              "      <td>0</td>\n",
              "      <td>1.000000</td>\n",
              "      <td>1</td>\n",
              "      <td>0</td>\n",
              "      <td>1</td>\n",
              "      <td>4.409699e+07</td>\n",
              "      <td>white</td>\n",
              "    </tr>\n",
              "    <tr>\n",
              "      <th>2916694</th>\n",
              "      <td>1KYiKJEfdJtap9QX2v9BXJMpz2SfU4pgZw</td>\n",
              "      <td>2018</td>\n",
              "      <td>330</td>\n",
              "      <td>2</td>\n",
              "      <td>12.000000</td>\n",
              "      <td>6</td>\n",
              "      <td>6</td>\n",
              "      <td>35</td>\n",
              "      <td>2.398267e+09</td>\n",
              "      <td>white</td>\n",
              "    </tr>\n",
              "    <tr>\n",
              "      <th>2916695</th>\n",
              "      <td>15iPUJsRNZQZHmZZVwmQ63srsmughCXV4a</td>\n",
              "      <td>2018</td>\n",
              "      <td>330</td>\n",
              "      <td>0</td>\n",
              "      <td>0.500000</td>\n",
              "      <td>1</td>\n",
              "      <td>0</td>\n",
              "      <td>1</td>\n",
              "      <td>1.780427e+08</td>\n",
              "      <td>white</td>\n",
              "    </tr>\n",
              "    <tr>\n",
              "      <th>2916696</th>\n",
              "      <td>3LFFBxp15h9KSFtaw55np8eP5fv6kdK17e</td>\n",
              "      <td>2018</td>\n",
              "      <td>330</td>\n",
              "      <td>144</td>\n",
              "      <td>0.073972</td>\n",
              "      <td>6800</td>\n",
              "      <td>0</td>\n",
              "      <td>2</td>\n",
              "      <td>1.123500e+08</td>\n",
              "      <td>white</td>\n",
              "    </tr>\n",
              "  </tbody>\n",
              "</table>\n",
              "</div>\n",
              "      <button class=\"colab-df-convert\" onclick=\"convertToInteractive('df-bba7bd46-7d5a-4732-a6c4-71c262ccad3f')\"\n",
              "              title=\"Convert this dataframe to an interactive table.\"\n",
              "              style=\"display:none;\">\n",
              "        \n",
              "  <svg xmlns=\"http://www.w3.org/2000/svg\" height=\"24px\"viewBox=\"0 0 24 24\"\n",
              "       width=\"24px\">\n",
              "    <path d=\"M0 0h24v24H0V0z\" fill=\"none\"/>\n",
              "    <path d=\"M18.56 5.44l.94 2.06.94-2.06 2.06-.94-2.06-.94-.94-2.06-.94 2.06-2.06.94zm-11 1L8.5 8.5l.94-2.06 2.06-.94-2.06-.94L8.5 2.5l-.94 2.06-2.06.94zm10 10l.94 2.06.94-2.06 2.06-.94-2.06-.94-.94-2.06-.94 2.06-2.06.94z\"/><path d=\"M17.41 7.96l-1.37-1.37c-.4-.4-.92-.59-1.43-.59-.52 0-1.04.2-1.43.59L10.3 9.45l-7.72 7.72c-.78.78-.78 2.05 0 2.83L4 21.41c.39.39.9.59 1.41.59.51 0 1.02-.2 1.41-.59l7.78-7.78 2.81-2.81c.8-.78.8-2.07 0-2.86zM5.41 20L4 18.59l7.72-7.72 1.47 1.35L5.41 20z\"/>\n",
              "  </svg>\n",
              "      </button>\n",
              "      \n",
              "  <style>\n",
              "    .colab-df-container {\n",
              "      display:flex;\n",
              "      flex-wrap:wrap;\n",
              "      gap: 12px;\n",
              "    }\n",
              "\n",
              "    .colab-df-convert {\n",
              "      background-color: #E8F0FE;\n",
              "      border: none;\n",
              "      border-radius: 50%;\n",
              "      cursor: pointer;\n",
              "      display: none;\n",
              "      fill: #1967D2;\n",
              "      height: 32px;\n",
              "      padding: 0 0 0 0;\n",
              "      width: 32px;\n",
              "    }\n",
              "\n",
              "    .colab-df-convert:hover {\n",
              "      background-color: #E2EBFA;\n",
              "      box-shadow: 0px 1px 2px rgba(60, 64, 67, 0.3), 0px 1px 3px 1px rgba(60, 64, 67, 0.15);\n",
              "      fill: #174EA6;\n",
              "    }\n",
              "\n",
              "    [theme=dark] .colab-df-convert {\n",
              "      background-color: #3B4455;\n",
              "      fill: #D2E3FC;\n",
              "    }\n",
              "\n",
              "    [theme=dark] .colab-df-convert:hover {\n",
              "      background-color: #434B5C;\n",
              "      box-shadow: 0px 1px 3px 1px rgba(0, 0, 0, 0.15);\n",
              "      filter: drop-shadow(0px 1px 2px rgba(0, 0, 0, 0.3));\n",
              "      fill: #FFFFFF;\n",
              "    }\n",
              "  </style>\n",
              "\n",
              "      <script>\n",
              "        const buttonEl =\n",
              "          document.querySelector('#df-bba7bd46-7d5a-4732-a6c4-71c262ccad3f button.colab-df-convert');\n",
              "        buttonEl.style.display =\n",
              "          google.colab.kernel.accessAllowed ? 'block' : 'none';\n",
              "\n",
              "        async function convertToInteractive(key) {\n",
              "          const element = document.querySelector('#df-bba7bd46-7d5a-4732-a6c4-71c262ccad3f');\n",
              "          const dataTable =\n",
              "            await google.colab.kernel.invokeFunction('convertToInteractive',\n",
              "                                                     [key], {});\n",
              "          if (!dataTable) return;\n",
              "\n",
              "          const docLinkHtml = 'Like what you see? Visit the ' +\n",
              "            '<a target=\"_blank\" href=https://colab.research.google.com/notebooks/data_table.ipynb>data table notebook</a>'\n",
              "            + ' to learn more about interactive tables.';\n",
              "          element.innerHTML = '';\n",
              "          dataTable['output_type'] = 'display_data';\n",
              "          await google.colab.output.renderOutput(dataTable, element);\n",
              "          const docLink = document.createElement('div');\n",
              "          docLink.innerHTML = docLinkHtml;\n",
              "          element.appendChild(docLink);\n",
              "        }\n",
              "      </script>\n",
              "    </div>\n",
              "  </div>\n",
              "  "
            ]
          },
          "metadata": {},
          "execution_count": 5
        }
      ],
      "source": [
        "data.tail()"
      ]
    },
    {
      "cell_type": "code",
      "execution_count": null,
      "metadata": {
        "id": "TzdtOJFxryZt"
      },
      "outputs": [],
      "source": [
        "# x, y = data.drop(['address', 'label'], axis=1), data.filter(['label'])"
      ]
    },
    {
      "cell_type": "markdown",
      "metadata": {
        "id": "xAr0-B0-uKXZ"
      },
      "source": [
        "# Change label if white == 0 else  === 1"
      ]
    },
    {
      "cell_type": "code",
      "execution_count": null,
      "metadata": {
        "colab": {
          "base_uri": "https://localhost:8080/",
          "height": 424
        },
        "id": "Gn8oXQLbtM3j",
        "outputId": "ba21eda1-25fa-4980-ddd5-6e607b488e85"
      },
      "outputs": [
        {
          "output_type": "execute_result",
          "data": {
            "text/plain": [
              "                                    address  year  day  length     weight  \\\n",
              "0         111K8kZAEnJg245r2cM6y9zgJGHZtJPy6  2017   11      18   0.008333   \n",
              "1        1123pJv8jzeFQaCV4w644pzQJzVWay2zcA  2016  132      44   0.000244   \n",
              "2        112536im7hy6wtKbpH1qYDWtTyMRAcA2p7  2016  246       0   1.000000   \n",
              "3        1126eDRw2wqSkWosjTCre8cjjQW8sSeWH7  2016  322      72   0.003906   \n",
              "4        1129TSjKtx65E35GiUo4AYVeyo48twbrGX  2016  238     144   0.072848   \n",
              "...                                     ...   ...  ...     ...        ...   \n",
              "2916692  12D3trgho1vJ4mGtWBRPyHdMJK96TRYSry  2018  330       0   0.111111   \n",
              "2916693  1P7PputTcVkhXBmXBvSD9MJ3UYPsiou1u2  2018  330       0   1.000000   \n",
              "2916694  1KYiKJEfdJtap9QX2v9BXJMpz2SfU4pgZw  2018  330       2  12.000000   \n",
              "2916695  15iPUJsRNZQZHmZZVwmQ63srsmughCXV4a  2018  330       0   0.500000   \n",
              "2916696  3LFFBxp15h9KSFtaw55np8eP5fv6kdK17e  2018  330     144   0.073972   \n",
              "\n",
              "         count  looped  neighbors        income  label  \n",
              "0            1       0          2  1.000500e+08      1  \n",
              "1            1       0          1  1.000000e+08      1  \n",
              "2            1       0          2  2.000000e+08      1  \n",
              "3            1       0          2  7.120000e+07      1  \n",
              "4          456       0          1  2.000000e+08      1  \n",
              "...        ...     ...        ...           ...    ...  \n",
              "2916692      1       0          1  1.255809e+09      0  \n",
              "2916693      1       0          1  4.409699e+07      0  \n",
              "2916694      6       6         35  2.398267e+09      0  \n",
              "2916695      1       0          1  1.780427e+08      0  \n",
              "2916696   6800       0          2  1.123500e+08      0  \n",
              "\n",
              "[2916697 rows x 10 columns]"
            ],
            "text/html": [
              "\n",
              "  <div id=\"df-9205c60f-c238-4538-b9d2-8037843f5c5b\">\n",
              "    <div class=\"colab-df-container\">\n",
              "      <div>\n",
              "<style scoped>\n",
              "    .dataframe tbody tr th:only-of-type {\n",
              "        vertical-align: middle;\n",
              "    }\n",
              "\n",
              "    .dataframe tbody tr th {\n",
              "        vertical-align: top;\n",
              "    }\n",
              "\n",
              "    .dataframe thead th {\n",
              "        text-align: right;\n",
              "    }\n",
              "</style>\n",
              "<table border=\"1\" class=\"dataframe\">\n",
              "  <thead>\n",
              "    <tr style=\"text-align: right;\">\n",
              "      <th></th>\n",
              "      <th>address</th>\n",
              "      <th>year</th>\n",
              "      <th>day</th>\n",
              "      <th>length</th>\n",
              "      <th>weight</th>\n",
              "      <th>count</th>\n",
              "      <th>looped</th>\n",
              "      <th>neighbors</th>\n",
              "      <th>income</th>\n",
              "      <th>label</th>\n",
              "    </tr>\n",
              "  </thead>\n",
              "  <tbody>\n",
              "    <tr>\n",
              "      <th>0</th>\n",
              "      <td>111K8kZAEnJg245r2cM6y9zgJGHZtJPy6</td>\n",
              "      <td>2017</td>\n",
              "      <td>11</td>\n",
              "      <td>18</td>\n",
              "      <td>0.008333</td>\n",
              "      <td>1</td>\n",
              "      <td>0</td>\n",
              "      <td>2</td>\n",
              "      <td>1.000500e+08</td>\n",
              "      <td>1</td>\n",
              "    </tr>\n",
              "    <tr>\n",
              "      <th>1</th>\n",
              "      <td>1123pJv8jzeFQaCV4w644pzQJzVWay2zcA</td>\n",
              "      <td>2016</td>\n",
              "      <td>132</td>\n",
              "      <td>44</td>\n",
              "      <td>0.000244</td>\n",
              "      <td>1</td>\n",
              "      <td>0</td>\n",
              "      <td>1</td>\n",
              "      <td>1.000000e+08</td>\n",
              "      <td>1</td>\n",
              "    </tr>\n",
              "    <tr>\n",
              "      <th>2</th>\n",
              "      <td>112536im7hy6wtKbpH1qYDWtTyMRAcA2p7</td>\n",
              "      <td>2016</td>\n",
              "      <td>246</td>\n",
              "      <td>0</td>\n",
              "      <td>1.000000</td>\n",
              "      <td>1</td>\n",
              "      <td>0</td>\n",
              "      <td>2</td>\n",
              "      <td>2.000000e+08</td>\n",
              "      <td>1</td>\n",
              "    </tr>\n",
              "    <tr>\n",
              "      <th>3</th>\n",
              "      <td>1126eDRw2wqSkWosjTCre8cjjQW8sSeWH7</td>\n",
              "      <td>2016</td>\n",
              "      <td>322</td>\n",
              "      <td>72</td>\n",
              "      <td>0.003906</td>\n",
              "      <td>1</td>\n",
              "      <td>0</td>\n",
              "      <td>2</td>\n",
              "      <td>7.120000e+07</td>\n",
              "      <td>1</td>\n",
              "    </tr>\n",
              "    <tr>\n",
              "      <th>4</th>\n",
              "      <td>1129TSjKtx65E35GiUo4AYVeyo48twbrGX</td>\n",
              "      <td>2016</td>\n",
              "      <td>238</td>\n",
              "      <td>144</td>\n",
              "      <td>0.072848</td>\n",
              "      <td>456</td>\n",
              "      <td>0</td>\n",
              "      <td>1</td>\n",
              "      <td>2.000000e+08</td>\n",
              "      <td>1</td>\n",
              "    </tr>\n",
              "    <tr>\n",
              "      <th>...</th>\n",
              "      <td>...</td>\n",
              "      <td>...</td>\n",
              "      <td>...</td>\n",
              "      <td>...</td>\n",
              "      <td>...</td>\n",
              "      <td>...</td>\n",
              "      <td>...</td>\n",
              "      <td>...</td>\n",
              "      <td>...</td>\n",
              "      <td>...</td>\n",
              "    </tr>\n",
              "    <tr>\n",
              "      <th>2916692</th>\n",
              "      <td>12D3trgho1vJ4mGtWBRPyHdMJK96TRYSry</td>\n",
              "      <td>2018</td>\n",
              "      <td>330</td>\n",
              "      <td>0</td>\n",
              "      <td>0.111111</td>\n",
              "      <td>1</td>\n",
              "      <td>0</td>\n",
              "      <td>1</td>\n",
              "      <td>1.255809e+09</td>\n",
              "      <td>0</td>\n",
              "    </tr>\n",
              "    <tr>\n",
              "      <th>2916693</th>\n",
              "      <td>1P7PputTcVkhXBmXBvSD9MJ3UYPsiou1u2</td>\n",
              "      <td>2018</td>\n",
              "      <td>330</td>\n",
              "      <td>0</td>\n",
              "      <td>1.000000</td>\n",
              "      <td>1</td>\n",
              "      <td>0</td>\n",
              "      <td>1</td>\n",
              "      <td>4.409699e+07</td>\n",
              "      <td>0</td>\n",
              "    </tr>\n",
              "    <tr>\n",
              "      <th>2916694</th>\n",
              "      <td>1KYiKJEfdJtap9QX2v9BXJMpz2SfU4pgZw</td>\n",
              "      <td>2018</td>\n",
              "      <td>330</td>\n",
              "      <td>2</td>\n",
              "      <td>12.000000</td>\n",
              "      <td>6</td>\n",
              "      <td>6</td>\n",
              "      <td>35</td>\n",
              "      <td>2.398267e+09</td>\n",
              "      <td>0</td>\n",
              "    </tr>\n",
              "    <tr>\n",
              "      <th>2916695</th>\n",
              "      <td>15iPUJsRNZQZHmZZVwmQ63srsmughCXV4a</td>\n",
              "      <td>2018</td>\n",
              "      <td>330</td>\n",
              "      <td>0</td>\n",
              "      <td>0.500000</td>\n",
              "      <td>1</td>\n",
              "      <td>0</td>\n",
              "      <td>1</td>\n",
              "      <td>1.780427e+08</td>\n",
              "      <td>0</td>\n",
              "    </tr>\n",
              "    <tr>\n",
              "      <th>2916696</th>\n",
              "      <td>3LFFBxp15h9KSFtaw55np8eP5fv6kdK17e</td>\n",
              "      <td>2018</td>\n",
              "      <td>330</td>\n",
              "      <td>144</td>\n",
              "      <td>0.073972</td>\n",
              "      <td>6800</td>\n",
              "      <td>0</td>\n",
              "      <td>2</td>\n",
              "      <td>1.123500e+08</td>\n",
              "      <td>0</td>\n",
              "    </tr>\n",
              "  </tbody>\n",
              "</table>\n",
              "<p>2916697 rows × 10 columns</p>\n",
              "</div>\n",
              "      <button class=\"colab-df-convert\" onclick=\"convertToInteractive('df-9205c60f-c238-4538-b9d2-8037843f5c5b')\"\n",
              "              title=\"Convert this dataframe to an interactive table.\"\n",
              "              style=\"display:none;\">\n",
              "        \n",
              "  <svg xmlns=\"http://www.w3.org/2000/svg\" height=\"24px\"viewBox=\"0 0 24 24\"\n",
              "       width=\"24px\">\n",
              "    <path d=\"M0 0h24v24H0V0z\" fill=\"none\"/>\n",
              "    <path d=\"M18.56 5.44l.94 2.06.94-2.06 2.06-.94-2.06-.94-.94-2.06-.94 2.06-2.06.94zm-11 1L8.5 8.5l.94-2.06 2.06-.94-2.06-.94L8.5 2.5l-.94 2.06-2.06.94zm10 10l.94 2.06.94-2.06 2.06-.94-2.06-.94-.94-2.06-.94 2.06-2.06.94z\"/><path d=\"M17.41 7.96l-1.37-1.37c-.4-.4-.92-.59-1.43-.59-.52 0-1.04.2-1.43.59L10.3 9.45l-7.72 7.72c-.78.78-.78 2.05 0 2.83L4 21.41c.39.39.9.59 1.41.59.51 0 1.02-.2 1.41-.59l7.78-7.78 2.81-2.81c.8-.78.8-2.07 0-2.86zM5.41 20L4 18.59l7.72-7.72 1.47 1.35L5.41 20z\"/>\n",
              "  </svg>\n",
              "      </button>\n",
              "      \n",
              "  <style>\n",
              "    .colab-df-container {\n",
              "      display:flex;\n",
              "      flex-wrap:wrap;\n",
              "      gap: 12px;\n",
              "    }\n",
              "\n",
              "    .colab-df-convert {\n",
              "      background-color: #E8F0FE;\n",
              "      border: none;\n",
              "      border-radius: 50%;\n",
              "      cursor: pointer;\n",
              "      display: none;\n",
              "      fill: #1967D2;\n",
              "      height: 32px;\n",
              "      padding: 0 0 0 0;\n",
              "      width: 32px;\n",
              "    }\n",
              "\n",
              "    .colab-df-convert:hover {\n",
              "      background-color: #E2EBFA;\n",
              "      box-shadow: 0px 1px 2px rgba(60, 64, 67, 0.3), 0px 1px 3px 1px rgba(60, 64, 67, 0.15);\n",
              "      fill: #174EA6;\n",
              "    }\n",
              "\n",
              "    [theme=dark] .colab-df-convert {\n",
              "      background-color: #3B4455;\n",
              "      fill: #D2E3FC;\n",
              "    }\n",
              "\n",
              "    [theme=dark] .colab-df-convert:hover {\n",
              "      background-color: #434B5C;\n",
              "      box-shadow: 0px 1px 3px 1px rgba(0, 0, 0, 0.15);\n",
              "      filter: drop-shadow(0px 1px 2px rgba(0, 0, 0, 0.3));\n",
              "      fill: #FFFFFF;\n",
              "    }\n",
              "  </style>\n",
              "\n",
              "      <script>\n",
              "        const buttonEl =\n",
              "          document.querySelector('#df-9205c60f-c238-4538-b9d2-8037843f5c5b button.colab-df-convert');\n",
              "        buttonEl.style.display =\n",
              "          google.colab.kernel.accessAllowed ? 'block' : 'none';\n",
              "\n",
              "        async function convertToInteractive(key) {\n",
              "          const element = document.querySelector('#df-9205c60f-c238-4538-b9d2-8037843f5c5b');\n",
              "          const dataTable =\n",
              "            await google.colab.kernel.invokeFunction('convertToInteractive',\n",
              "                                                     [key], {});\n",
              "          if (!dataTable) return;\n",
              "\n",
              "          const docLinkHtml = 'Like what you see? Visit the ' +\n",
              "            '<a target=\"_blank\" href=https://colab.research.google.com/notebooks/data_table.ipynb>data table notebook</a>'\n",
              "            + ' to learn more about interactive tables.';\n",
              "          element.innerHTML = '';\n",
              "          dataTable['output_type'] = 'display_data';\n",
              "          await google.colab.output.renderOutput(dataTable, element);\n",
              "          const docLink = document.createElement('div');\n",
              "          docLink.innerHTML = docLinkHtml;\n",
              "          element.appendChild(docLink);\n",
              "        }\n",
              "      </script>\n",
              "    </div>\n",
              "  </div>\n",
              "  "
            ]
          },
          "metadata": {},
          "execution_count": 6
        }
      ],
      "source": [
        "data[\"label\"] = np.where(data[\"label\"] == \"white\", 0, 1)\n",
        "data"
      ]
    },
    {
      "cell_type": "code",
      "execution_count": null,
      "metadata": {
        "colab": {
          "base_uri": "https://localhost:8080/",
          "height": 424
        },
        "id": "P3Mk5yn9x51x",
        "outputId": "d4459e97-643d-4bdd-8783-32f9b6993219"
      },
      "outputs": [
        {
          "output_type": "execute_result",
          "data": {
            "text/plain": [
              "         year  day  length     weight  count  looped  neighbors        income\n",
              "0        2017   11      18   0.008333      1       0          2  1.000500e+08\n",
              "1        2016  132      44   0.000244      1       0          1  1.000000e+08\n",
              "2        2016  246       0   1.000000      1       0          2  2.000000e+08\n",
              "3        2016  322      72   0.003906      1       0          2  7.120000e+07\n",
              "4        2016  238     144   0.072848    456       0          1  2.000000e+08\n",
              "...       ...  ...     ...        ...    ...     ...        ...           ...\n",
              "2916692  2018  330       0   0.111111      1       0          1  1.255809e+09\n",
              "2916693  2018  330       0   1.000000      1       0          1  4.409699e+07\n",
              "2916694  2018  330       2  12.000000      6       6         35  2.398267e+09\n",
              "2916695  2018  330       0   0.500000      1       0          1  1.780427e+08\n",
              "2916696  2018  330     144   0.073972   6800       0          2  1.123500e+08\n",
              "\n",
              "[2916697 rows x 8 columns]"
            ],
            "text/html": [
              "\n",
              "  <div id=\"df-54336011-f2c1-4b4d-ac09-b01a1fdbf4ef\">\n",
              "    <div class=\"colab-df-container\">\n",
              "      <div>\n",
              "<style scoped>\n",
              "    .dataframe tbody tr th:only-of-type {\n",
              "        vertical-align: middle;\n",
              "    }\n",
              "\n",
              "    .dataframe tbody tr th {\n",
              "        vertical-align: top;\n",
              "    }\n",
              "\n",
              "    .dataframe thead th {\n",
              "        text-align: right;\n",
              "    }\n",
              "</style>\n",
              "<table border=\"1\" class=\"dataframe\">\n",
              "  <thead>\n",
              "    <tr style=\"text-align: right;\">\n",
              "      <th></th>\n",
              "      <th>year</th>\n",
              "      <th>day</th>\n",
              "      <th>length</th>\n",
              "      <th>weight</th>\n",
              "      <th>count</th>\n",
              "      <th>looped</th>\n",
              "      <th>neighbors</th>\n",
              "      <th>income</th>\n",
              "    </tr>\n",
              "  </thead>\n",
              "  <tbody>\n",
              "    <tr>\n",
              "      <th>0</th>\n",
              "      <td>2017</td>\n",
              "      <td>11</td>\n",
              "      <td>18</td>\n",
              "      <td>0.008333</td>\n",
              "      <td>1</td>\n",
              "      <td>0</td>\n",
              "      <td>2</td>\n",
              "      <td>1.000500e+08</td>\n",
              "    </tr>\n",
              "    <tr>\n",
              "      <th>1</th>\n",
              "      <td>2016</td>\n",
              "      <td>132</td>\n",
              "      <td>44</td>\n",
              "      <td>0.000244</td>\n",
              "      <td>1</td>\n",
              "      <td>0</td>\n",
              "      <td>1</td>\n",
              "      <td>1.000000e+08</td>\n",
              "    </tr>\n",
              "    <tr>\n",
              "      <th>2</th>\n",
              "      <td>2016</td>\n",
              "      <td>246</td>\n",
              "      <td>0</td>\n",
              "      <td>1.000000</td>\n",
              "      <td>1</td>\n",
              "      <td>0</td>\n",
              "      <td>2</td>\n",
              "      <td>2.000000e+08</td>\n",
              "    </tr>\n",
              "    <tr>\n",
              "      <th>3</th>\n",
              "      <td>2016</td>\n",
              "      <td>322</td>\n",
              "      <td>72</td>\n",
              "      <td>0.003906</td>\n",
              "      <td>1</td>\n",
              "      <td>0</td>\n",
              "      <td>2</td>\n",
              "      <td>7.120000e+07</td>\n",
              "    </tr>\n",
              "    <tr>\n",
              "      <th>4</th>\n",
              "      <td>2016</td>\n",
              "      <td>238</td>\n",
              "      <td>144</td>\n",
              "      <td>0.072848</td>\n",
              "      <td>456</td>\n",
              "      <td>0</td>\n",
              "      <td>1</td>\n",
              "      <td>2.000000e+08</td>\n",
              "    </tr>\n",
              "    <tr>\n",
              "      <th>...</th>\n",
              "      <td>...</td>\n",
              "      <td>...</td>\n",
              "      <td>...</td>\n",
              "      <td>...</td>\n",
              "      <td>...</td>\n",
              "      <td>...</td>\n",
              "      <td>...</td>\n",
              "      <td>...</td>\n",
              "    </tr>\n",
              "    <tr>\n",
              "      <th>2916692</th>\n",
              "      <td>2018</td>\n",
              "      <td>330</td>\n",
              "      <td>0</td>\n",
              "      <td>0.111111</td>\n",
              "      <td>1</td>\n",
              "      <td>0</td>\n",
              "      <td>1</td>\n",
              "      <td>1.255809e+09</td>\n",
              "    </tr>\n",
              "    <tr>\n",
              "      <th>2916693</th>\n",
              "      <td>2018</td>\n",
              "      <td>330</td>\n",
              "      <td>0</td>\n",
              "      <td>1.000000</td>\n",
              "      <td>1</td>\n",
              "      <td>0</td>\n",
              "      <td>1</td>\n",
              "      <td>4.409699e+07</td>\n",
              "    </tr>\n",
              "    <tr>\n",
              "      <th>2916694</th>\n",
              "      <td>2018</td>\n",
              "      <td>330</td>\n",
              "      <td>2</td>\n",
              "      <td>12.000000</td>\n",
              "      <td>6</td>\n",
              "      <td>6</td>\n",
              "      <td>35</td>\n",
              "      <td>2.398267e+09</td>\n",
              "    </tr>\n",
              "    <tr>\n",
              "      <th>2916695</th>\n",
              "      <td>2018</td>\n",
              "      <td>330</td>\n",
              "      <td>0</td>\n",
              "      <td>0.500000</td>\n",
              "      <td>1</td>\n",
              "      <td>0</td>\n",
              "      <td>1</td>\n",
              "      <td>1.780427e+08</td>\n",
              "    </tr>\n",
              "    <tr>\n",
              "      <th>2916696</th>\n",
              "      <td>2018</td>\n",
              "      <td>330</td>\n",
              "      <td>144</td>\n",
              "      <td>0.073972</td>\n",
              "      <td>6800</td>\n",
              "      <td>0</td>\n",
              "      <td>2</td>\n",
              "      <td>1.123500e+08</td>\n",
              "    </tr>\n",
              "  </tbody>\n",
              "</table>\n",
              "<p>2916697 rows × 8 columns</p>\n",
              "</div>\n",
              "      <button class=\"colab-df-convert\" onclick=\"convertToInteractive('df-54336011-f2c1-4b4d-ac09-b01a1fdbf4ef')\"\n",
              "              title=\"Convert this dataframe to an interactive table.\"\n",
              "              style=\"display:none;\">\n",
              "        \n",
              "  <svg xmlns=\"http://www.w3.org/2000/svg\" height=\"24px\"viewBox=\"0 0 24 24\"\n",
              "       width=\"24px\">\n",
              "    <path d=\"M0 0h24v24H0V0z\" fill=\"none\"/>\n",
              "    <path d=\"M18.56 5.44l.94 2.06.94-2.06 2.06-.94-2.06-.94-.94-2.06-.94 2.06-2.06.94zm-11 1L8.5 8.5l.94-2.06 2.06-.94-2.06-.94L8.5 2.5l-.94 2.06-2.06.94zm10 10l.94 2.06.94-2.06 2.06-.94-2.06-.94-.94-2.06-.94 2.06-2.06.94z\"/><path d=\"M17.41 7.96l-1.37-1.37c-.4-.4-.92-.59-1.43-.59-.52 0-1.04.2-1.43.59L10.3 9.45l-7.72 7.72c-.78.78-.78 2.05 0 2.83L4 21.41c.39.39.9.59 1.41.59.51 0 1.02-.2 1.41-.59l7.78-7.78 2.81-2.81c.8-.78.8-2.07 0-2.86zM5.41 20L4 18.59l7.72-7.72 1.47 1.35L5.41 20z\"/>\n",
              "  </svg>\n",
              "      </button>\n",
              "      \n",
              "  <style>\n",
              "    .colab-df-container {\n",
              "      display:flex;\n",
              "      flex-wrap:wrap;\n",
              "      gap: 12px;\n",
              "    }\n",
              "\n",
              "    .colab-df-convert {\n",
              "      background-color: #E8F0FE;\n",
              "      border: none;\n",
              "      border-radius: 50%;\n",
              "      cursor: pointer;\n",
              "      display: none;\n",
              "      fill: #1967D2;\n",
              "      height: 32px;\n",
              "      padding: 0 0 0 0;\n",
              "      width: 32px;\n",
              "    }\n",
              "\n",
              "    .colab-df-convert:hover {\n",
              "      background-color: #E2EBFA;\n",
              "      box-shadow: 0px 1px 2px rgba(60, 64, 67, 0.3), 0px 1px 3px 1px rgba(60, 64, 67, 0.15);\n",
              "      fill: #174EA6;\n",
              "    }\n",
              "\n",
              "    [theme=dark] .colab-df-convert {\n",
              "      background-color: #3B4455;\n",
              "      fill: #D2E3FC;\n",
              "    }\n",
              "\n",
              "    [theme=dark] .colab-df-convert:hover {\n",
              "      background-color: #434B5C;\n",
              "      box-shadow: 0px 1px 3px 1px rgba(0, 0, 0, 0.15);\n",
              "      filter: drop-shadow(0px 1px 2px rgba(0, 0, 0, 0.3));\n",
              "      fill: #FFFFFF;\n",
              "    }\n",
              "  </style>\n",
              "\n",
              "      <script>\n",
              "        const buttonEl =\n",
              "          document.querySelector('#df-54336011-f2c1-4b4d-ac09-b01a1fdbf4ef button.colab-df-convert');\n",
              "        buttonEl.style.display =\n",
              "          google.colab.kernel.accessAllowed ? 'block' : 'none';\n",
              "\n",
              "        async function convertToInteractive(key) {\n",
              "          const element = document.querySelector('#df-54336011-f2c1-4b4d-ac09-b01a1fdbf4ef');\n",
              "          const dataTable =\n",
              "            await google.colab.kernel.invokeFunction('convertToInteractive',\n",
              "                                                     [key], {});\n",
              "          if (!dataTable) return;\n",
              "\n",
              "          const docLinkHtml = 'Like what you see? Visit the ' +\n",
              "            '<a target=\"_blank\" href=https://colab.research.google.com/notebooks/data_table.ipynb>data table notebook</a>'\n",
              "            + ' to learn more about interactive tables.';\n",
              "          element.innerHTML = '';\n",
              "          dataTable['output_type'] = 'display_data';\n",
              "          await google.colab.output.renderOutput(dataTable, element);\n",
              "          const docLink = document.createElement('div');\n",
              "          docLink.innerHTML = docLinkHtml;\n",
              "          element.appendChild(docLink);\n",
              "        }\n",
              "      </script>\n",
              "    </div>\n",
              "  </div>\n",
              "  "
            ]
          },
          "metadata": {},
          "execution_count": 46
        }
      ],
      "source": [
        "# x"
      ]
    },
    {
      "cell_type": "code",
      "execution_count": null,
      "metadata": {
        "colab": {
          "base_uri": "https://localhost:8080/",
          "height": 424
        },
        "id": "C63FIhuvyBPf",
        "outputId": "5d2c8da5-e98e-4840-e173-b02b6f29c799"
      },
      "outputs": [
        {
          "output_type": "execute_result",
          "data": {
            "text/plain": [
              "         label\n",
              "0            1\n",
              "1            1\n",
              "2            1\n",
              "3            1\n",
              "4            1\n",
              "...        ...\n",
              "2916692      0\n",
              "2916693      0\n",
              "2916694      0\n",
              "2916695      0\n",
              "2916696      0\n",
              "\n",
              "[2916697 rows x 1 columns]"
            ],
            "text/html": [
              "\n",
              "  <div id=\"df-ef67fe22-1b5a-400b-9498-fce4581f639c\">\n",
              "    <div class=\"colab-df-container\">\n",
              "      <div>\n",
              "<style scoped>\n",
              "    .dataframe tbody tr th:only-of-type {\n",
              "        vertical-align: middle;\n",
              "    }\n",
              "\n",
              "    .dataframe tbody tr th {\n",
              "        vertical-align: top;\n",
              "    }\n",
              "\n",
              "    .dataframe thead th {\n",
              "        text-align: right;\n",
              "    }\n",
              "</style>\n",
              "<table border=\"1\" class=\"dataframe\">\n",
              "  <thead>\n",
              "    <tr style=\"text-align: right;\">\n",
              "      <th></th>\n",
              "      <th>label</th>\n",
              "    </tr>\n",
              "  </thead>\n",
              "  <tbody>\n",
              "    <tr>\n",
              "      <th>0</th>\n",
              "      <td>1</td>\n",
              "    </tr>\n",
              "    <tr>\n",
              "      <th>1</th>\n",
              "      <td>1</td>\n",
              "    </tr>\n",
              "    <tr>\n",
              "      <th>2</th>\n",
              "      <td>1</td>\n",
              "    </tr>\n",
              "    <tr>\n",
              "      <th>3</th>\n",
              "      <td>1</td>\n",
              "    </tr>\n",
              "    <tr>\n",
              "      <th>4</th>\n",
              "      <td>1</td>\n",
              "    </tr>\n",
              "    <tr>\n",
              "      <th>...</th>\n",
              "      <td>...</td>\n",
              "    </tr>\n",
              "    <tr>\n",
              "      <th>2916692</th>\n",
              "      <td>0</td>\n",
              "    </tr>\n",
              "    <tr>\n",
              "      <th>2916693</th>\n",
              "      <td>0</td>\n",
              "    </tr>\n",
              "    <tr>\n",
              "      <th>2916694</th>\n",
              "      <td>0</td>\n",
              "    </tr>\n",
              "    <tr>\n",
              "      <th>2916695</th>\n",
              "      <td>0</td>\n",
              "    </tr>\n",
              "    <tr>\n",
              "      <th>2916696</th>\n",
              "      <td>0</td>\n",
              "    </tr>\n",
              "  </tbody>\n",
              "</table>\n",
              "<p>2916697 rows × 1 columns</p>\n",
              "</div>\n",
              "      <button class=\"colab-df-convert\" onclick=\"convertToInteractive('df-ef67fe22-1b5a-400b-9498-fce4581f639c')\"\n",
              "              title=\"Convert this dataframe to an interactive table.\"\n",
              "              style=\"display:none;\">\n",
              "        \n",
              "  <svg xmlns=\"http://www.w3.org/2000/svg\" height=\"24px\"viewBox=\"0 0 24 24\"\n",
              "       width=\"24px\">\n",
              "    <path d=\"M0 0h24v24H0V0z\" fill=\"none\"/>\n",
              "    <path d=\"M18.56 5.44l.94 2.06.94-2.06 2.06-.94-2.06-.94-.94-2.06-.94 2.06-2.06.94zm-11 1L8.5 8.5l.94-2.06 2.06-.94-2.06-.94L8.5 2.5l-.94 2.06-2.06.94zm10 10l.94 2.06.94-2.06 2.06-.94-2.06-.94-.94-2.06-.94 2.06-2.06.94z\"/><path d=\"M17.41 7.96l-1.37-1.37c-.4-.4-.92-.59-1.43-.59-.52 0-1.04.2-1.43.59L10.3 9.45l-7.72 7.72c-.78.78-.78 2.05 0 2.83L4 21.41c.39.39.9.59 1.41.59.51 0 1.02-.2 1.41-.59l7.78-7.78 2.81-2.81c.8-.78.8-2.07 0-2.86zM5.41 20L4 18.59l7.72-7.72 1.47 1.35L5.41 20z\"/>\n",
              "  </svg>\n",
              "      </button>\n",
              "      \n",
              "  <style>\n",
              "    .colab-df-container {\n",
              "      display:flex;\n",
              "      flex-wrap:wrap;\n",
              "      gap: 12px;\n",
              "    }\n",
              "\n",
              "    .colab-df-convert {\n",
              "      background-color: #E8F0FE;\n",
              "      border: none;\n",
              "      border-radius: 50%;\n",
              "      cursor: pointer;\n",
              "      display: none;\n",
              "      fill: #1967D2;\n",
              "      height: 32px;\n",
              "      padding: 0 0 0 0;\n",
              "      width: 32px;\n",
              "    }\n",
              "\n",
              "    .colab-df-convert:hover {\n",
              "      background-color: #E2EBFA;\n",
              "      box-shadow: 0px 1px 2px rgba(60, 64, 67, 0.3), 0px 1px 3px 1px rgba(60, 64, 67, 0.15);\n",
              "      fill: #174EA6;\n",
              "    }\n",
              "\n",
              "    [theme=dark] .colab-df-convert {\n",
              "      background-color: #3B4455;\n",
              "      fill: #D2E3FC;\n",
              "    }\n",
              "\n",
              "    [theme=dark] .colab-df-convert:hover {\n",
              "      background-color: #434B5C;\n",
              "      box-shadow: 0px 1px 3px 1px rgba(0, 0, 0, 0.15);\n",
              "      filter: drop-shadow(0px 1px 2px rgba(0, 0, 0, 0.3));\n",
              "      fill: #FFFFFF;\n",
              "    }\n",
              "  </style>\n",
              "\n",
              "      <script>\n",
              "        const buttonEl =\n",
              "          document.querySelector('#df-ef67fe22-1b5a-400b-9498-fce4581f639c button.colab-df-convert');\n",
              "        buttonEl.style.display =\n",
              "          google.colab.kernel.accessAllowed ? 'block' : 'none';\n",
              "\n",
              "        async function convertToInteractive(key) {\n",
              "          const element = document.querySelector('#df-ef67fe22-1b5a-400b-9498-fce4581f639c');\n",
              "          const dataTable =\n",
              "            await google.colab.kernel.invokeFunction('convertToInteractive',\n",
              "                                                     [key], {});\n",
              "          if (!dataTable) return;\n",
              "\n",
              "          const docLinkHtml = 'Like what you see? Visit the ' +\n",
              "            '<a target=\"_blank\" href=https://colab.research.google.com/notebooks/data_table.ipynb>data table notebook</a>'\n",
              "            + ' to learn more about interactive tables.';\n",
              "          element.innerHTML = '';\n",
              "          dataTable['output_type'] = 'display_data';\n",
              "          await google.colab.output.renderOutput(dataTable, element);\n",
              "          const docLink = document.createElement('div');\n",
              "          docLink.innerHTML = docLinkHtml;\n",
              "          element.appendChild(docLink);\n",
              "        }\n",
              "      </script>\n",
              "    </div>\n",
              "  </div>\n",
              "  "
            ]
          },
          "metadata": {},
          "execution_count": 47
        }
      ],
      "source": [
        "# y"
      ]
    },
    {
      "cell_type": "code",
      "source": [
        "# feat = data.drop(['address', 'label'], axis=1)\n",
        "\n",
        "# Labels are the values we want to predict\n",
        "target = np.array(data.filter(['label']))\n",
        "# Remove the labels from the features\n",
        "# axis 1 refers to the columns\n",
        "features= data.drop(['address', 'label'], axis = 1)\n",
        "\n",
        "feature_list = list(features.columns)\n",
        "# Convert to numpy array\n",
        "features = np.array(features)"
      ],
      "metadata": {
        "id": "t_pKocLPVhQQ"
      },
      "execution_count": null,
      "outputs": []
    },
    {
      "cell_type": "code",
      "source": [
        "from sklearn.impute import KNNImputer\n",
        "imputer = KNNImputer(missing_values=np.nan)\n",
        "# fit on the dataset\n",
        "imputer.fit(features)\n",
        "features_trans = imputer.transform(features)\n"
      ],
      "metadata": {
        "id": "Pb3xjDO3ThZr"
      },
      "execution_count": null,
      "outputs": []
    },
    {
      "cell_type": "code",
      "execution_count": null,
      "metadata": {
        "colab": {
          "base_uri": "https://localhost:8080/"
        },
        "id": "vnio_3uEvY2e",
        "outputId": "9e38bd87-bb55-4bfe-9838-c3b819145a2d"
      },
      "outputs": [
        {
          "output_type": "stream",
          "name": "stdout",
          "text": [
            "Jumlah Transaksi Normal 2875284\n",
            "Jumlah Transaksi Terindikasi Ransom ware 41413\n",
            "Before OverSampling, the shape of features_trans: (2916697, 8)\n",
            "Before OverSampling, the shape of target: (2916697, 1) \n",
            "\n",
            "Before OverSampling, counts of label '1':  [41413]\n",
            "Before OverSampling, counts of label '0':  [2875284]\n",
            "After OverSampling, the shape of X: (5750568, 8)\n",
            "After OverSampling, the shape of y: (5750568,) \n",
            "\n",
            "After OverSampling, counts of label '1': 2875284\n",
            "After OverSampling, counts of label '0': 2875284\n"
          ]
        }
      ],
      "source": [
        "# @title #SMOTE\n",
        "print(\"Jumlah Transaksi Normal \" + str(len(data.loc[data['label']  ==  0])))\n",
        "print(\"Jumlah Transaksi Terindikasi Ransom ware \" + str(len(data.loc[data['label']  !=  0])))\n",
        "\n",
        "\n",
        "from sklearn.model_selection import train_test_split\n",
        "  \n",
        "# split into 70:30 ration\n",
        "# X_train, X_test, y_train, y_test = train_test_split(x, y, test_size = 0.3, random_state = 0)\n",
        "  \n",
        "print('Before OverSampling, the shape of features_trans: {}'.format(str(features_trans.shape)))\n",
        "print('Before OverSampling, the shape of target: {} \\n'.format(target.shape))\n",
        "print(\"Before OverSampling, counts of label '1': \", str(sum(target == 1)))\n",
        "print(\"Before OverSampling, counts of label '0': \", str(sum(target == 0)))\n",
        "  \n",
        "# import SMOTE module from imblearn library\n",
        "# pip install imblearn (if you don't have imblearn in your system)\n",
        "from imblearn.over_sampling import SMOTE\n",
        "sm = SMOTE(random_state = 2)\n",
        "X, y = sm.fit_resample(features_trans, target)\n",
        "  \n",
        "print('After OverSampling, the shape of X: {}'.format(str(X.shape)))\n",
        "print('After OverSampling, the shape of y: {} \\n'.format(y.shape))\n",
        "\n",
        "print(\"After OverSampling, counts of label '1':\", str(sum(y == 1)))\n",
        "print(\"After OverSampling, counts of label '0':\", str(sum(y == 0)))\n",
        "# rasio perban"
      ]
    },
    {
      "cell_type": "code",
      "execution_count": null,
      "metadata": {
        "id": "CFwlQvumyrtV"
      },
      "outputs": [],
      "source": [
        "from sklearn.model_selection import train_test_split\n",
        "x_train, x_val, y_train, y_val = train_test_split(X, y, test_size=0.30, random_state=8)\n",
        "\n",
        "x_val, x_test, y_val, y_test = train_test_split(x_val, y_val, test_size=0.50, random_state=8)"
      ]
    },
    {
      "cell_type": "code",
      "execution_count": null,
      "metadata": {
        "colab": {
          "base_uri": "https://localhost:8080/"
        },
        "id": "Afmnp3XtSM25",
        "outputId": "33ffe171-da9a-4c53-be1e-3467ff47a042"
      },
      "outputs": [
        {
          "output_type": "stream",
          "name": "stdout",
          "text": [
            "Looking in indexes: https://pypi.org/simple, https://us-python.pkg.dev/colab-wheels/public/simple/\n",
            "Collecting git+https://github.com/dreamquark-ai/tabnet\n",
            "  Cloning https://github.com/dreamquark-ai/tabnet to /tmp/pip-req-build-kd99_30k\n",
            "  Running command git clone -q https://github.com/dreamquark-ai/tabnet /tmp/pip-req-build-kd99_30k\n",
            "  Installing build dependencies ... \u001b[?25l\u001b[?25hdone\n",
            "  Getting requirements to build wheel ... \u001b[?25l\u001b[?25hdone\n",
            "    Preparing wheel metadata ... \u001b[?25l\u001b[?25hdone\n",
            "Requirement already satisfied: scipy>1.4 in /usr/local/lib/python3.7/dist-packages (from pytorch-tabnet==4.0) (1.7.3)\n",
            "Requirement already satisfied: scikit_learn>0.21 in /usr/local/lib/python3.7/dist-packages (from pytorch-tabnet==4.0) (1.0.2)\n",
            "Requirement already satisfied: tqdm<5.0,>=4.36 in /usr/local/lib/python3.7/dist-packages (from pytorch-tabnet==4.0) (4.64.1)\n",
            "Requirement already satisfied: torch<2.0,>=1.2 in /usr/local/lib/python3.7/dist-packages (from pytorch-tabnet==4.0) (1.12.1+cu113)\n",
            "Requirement already satisfied: numpy<2.0,>=1.17 in /usr/local/lib/python3.7/dist-packages (from pytorch-tabnet==4.0) (1.21.6)\n",
            "Requirement already satisfied: joblib>=0.11 in /usr/local/lib/python3.7/dist-packages (from scikit_learn>0.21->pytorch-tabnet==4.0) (1.2.0)\n",
            "Requirement already satisfied: threadpoolctl>=2.0.0 in /usr/local/lib/python3.7/dist-packages (from scikit_learn>0.21->pytorch-tabnet==4.0) (3.1.0)\n",
            "Requirement already satisfied: typing-extensions in /usr/local/lib/python3.7/dist-packages (from torch<2.0,>=1.2->pytorch-tabnet==4.0) (4.1.1)\n",
            "Building wheels for collected packages: pytorch-tabnet\n",
            "  Building wheel for pytorch-tabnet (PEP 517) ... \u001b[?25l\u001b[?25hdone\n",
            "  Created wheel for pytorch-tabnet: filename=pytorch_tabnet-4.0-py3-none-any.whl size=41793 sha256=90c3a10ee3a0c9528c323ac53032f5c5d91e6f473b6a88eba944fb5b60382e2c\n",
            "  Stored in directory: /tmp/pip-ephem-wheel-cache-sgnzq9sn/wheels/08/0a/8a/ebb5cbdd84ca2cc39f4af3e9bf3fa0fb5650b4e8d54777dc1b\n",
            "Successfully built pytorch-tabnet\n",
            "Installing collected packages: pytorch-tabnet\n",
            "Successfully installed pytorch-tabnet-4.0\n"
          ]
        }
      ],
      "source": [
        "!pip install git+https://github.com/dreamquark-ai/tabnet"
      ]
    },
    {
      "cell_type": "code",
      "execution_count": null,
      "metadata": {
        "id": "D_HtMsCsRRSx"
      },
      "outputs": [],
      "source": [
        "import pytorch_tabnet\n",
        "from pytorch_tabnet.tab_model import TabNetClassifier\n",
        "import torch"
      ]
    },
    {
      "cell_type": "code",
      "execution_count": null,
      "metadata": {
        "colab": {
          "base_uri": "https://localhost:8080/"
        },
        "id": "0pWsurHCRYM2",
        "outputId": "5ab742de-3baf-483a-c2bf-4945572fea3f"
      },
      "outputs": [
        {
          "output_type": "stream",
          "name": "stderr",
          "text": [
            "/usr/local/lib/python3.7/dist-packages/pytorch_tabnet/abstract_model.py:75: UserWarning: Device used : cpu\n",
            "  warnings.warn(f\"Device used : {self.device}\")\n"
          ]
        },
        {
          "output_type": "stream",
          "name": "stdout",
          "text": [
            "epoch 0  | loss: 0.33582 | val_0_auc: 0.64721 |  0:09:51s\n",
            "epoch 1  | loss: 0.28795 | val_0_auc: 0.74341 |  0:19:21s\n",
            "epoch 2  | loss: 0.26892 | val_0_auc: 0.77796 |  0:28:47s\n",
            "epoch 3  | loss: 0.26394 | val_0_auc: 0.76447 |  0:38:25s\n",
            "epoch 4  | loss: 0.25838 | val_0_auc: 0.7687  |  0:48:05s\n",
            "epoch 5  | loss: 0.25419 | val_0_auc: 0.77549 |  0:57:29s\n",
            "epoch 6  | loss: 0.25554 | val_0_auc: 0.78722 |  1:06:56s\n",
            "epoch 7  | loss: 0.252   | val_0_auc: 0.74072 |  1:16:20s\n",
            "epoch 8  | loss: 0.24909 | val_0_auc: 0.74896 |  1:25:51s\n",
            "epoch 9  | loss: 0.24795 | val_0_auc: 0.77561 |  1:35:23s\n",
            "epoch 10 | loss: 0.24454 | val_0_auc: 0.66392 |  1:44:48s\n",
            "epoch 11 | loss: 0.24218 | val_0_auc: 0.71363 |  1:54:04s\n",
            "epoch 12 | loss: 0.24525 | val_0_auc: 0.67973 |  2:03:16s\n",
            "epoch 13 | loss: 0.2541  | val_0_auc: 0.66717 |  2:12:19s\n",
            "epoch 14 | loss: 0.2582  | val_0_auc: 0.71634 |  2:21:16s\n",
            "epoch 15 | loss: 0.26353 | val_0_auc: 0.69182 |  2:30:48s\n",
            "epoch 16 | loss: 0.26159 | val_0_auc: 0.70641 |  2:39:52s\n",
            "epoch 17 | loss: 0.25394 | val_0_auc: 0.68323 |  2:49:05s\n",
            "epoch 18 | loss: 0.25364 | val_0_auc: 0.61518 |  2:59:21s\n",
            "epoch 19 | loss: 0.25355 | val_0_auc: 0.65973 |  3:09:27s\n",
            "epoch 20 | loss: 0.25655 | val_0_auc: 0.67256 |  3:18:44s\n",
            "epoch 21 | loss: 0.26114 | val_0_auc: 0.70633 |  3:28:28s\n",
            "\n",
            "Early stopping occurred at epoch 21 with best_epoch = 6 and best_val_0_auc = 0.78722\n"
          ]
        },
        {
          "output_type": "stream",
          "name": "stderr",
          "text": [
            "/usr/local/lib/python3.7/dist-packages/pytorch_tabnet/callbacks.py:172: UserWarning: Best weights from best epoch are automatically used!\n",
            "  warnings.warn(wrn_msg)\n"
          ]
        }
      ],
      "source": [
        "# define the model\n",
        "from sklearn.preprocessing import LabelEncoder\n",
        "clf1_nopreproc = TabNetClassifier(optimizer_fn=torch.optim.Adam,\n",
        "                       optimizer_params=dict(lr=2e-2),\n",
        "                       scheduler_params={\"step_size\":10, # how to use learning rate scheduler\n",
        "                                         \"gamma\":0.9},\n",
        "                       scheduler_fn=torch.optim.lr_scheduler.StepLR,\n",
        "                       mask_type='entmax' # \"sparsemax\"\n",
        "                      )\n",
        "\n",
        "# y_train = y_train.ravel().reshape(1, -1)\n",
        "# y_val  = LabelEncoder().fit_transform(np.ravel(y_val))\n",
        "# x_val  = LabelEncoder().fit_transform(np.ravel(y_val))\n",
        "y_train = y_train.flatten()\n",
        "\n",
        "clf = TabNetClassifier()  #TabNetRegressor()\n",
        "\n",
        "clf.fit(\n",
        "  x_train, y_train,\n",
        "  eval_set=[(x_test, y_test)],\n",
        "  eval_metric=['auc'],\n",
        "  max_epochs=150 , patience=15,\n",
        "  batch_size=128, virtual_batch_size=64,\n",
        "  num_workers=0,\n",
        "  weights=1,\n",
        "  drop_last=False\n",
        ")\n",
        "\n"
      ]
    },
    {
      "cell_type": "code",
      "source": [
        "y_preds = clf.predict(x_test)\n",
        "from sklearn.metrics import accuracy_score, precision_score, recall_score, f1_score\n",
        "\n",
        "scoretraining = accuracy_score(y_test, y_preds)  \n",
        "print(f\"BEST ACCURACY SCORE ON VALIDATION SET : {scoretraining}\")"
      ],
      "metadata": {
        "colab": {
          "base_uri": "https://localhost:8080/"
        },
        "id": "SwM0OuAP1O5S",
        "outputId": "12a30575-a0b9-4d26-ea68-7d0967f7c6b5"
      },
      "execution_count": null,
      "outputs": [
        {
          "output_type": "stream",
          "name": "stdout",
          "text": [
            "BEST ACCURACY SCORE ON VALIDATION SET : 0.6119355055611846\n"
          ]
        }
      ]
    },
    {
      "cell_type": "code",
      "source": [
        "from sklearn.metrics import roc_auc_score"
      ],
      "metadata": {
        "id": "Y_oe4qiz29-k"
      },
      "execution_count": null,
      "outputs": []
    },
    {
      "cell_type": "code",
      "source": [
        "preds = clf.predict_proba(x_test)\n",
        "test_auc = roc_auc_score(y_score=preds[:,1], y_true=y_test)\n"
      ],
      "metadata": {
        "id": "CKwTofcY2z35"
      },
      "execution_count": null,
      "outputs": []
    },
    {
      "cell_type": "code",
      "source": [
        "# plot losses\n",
        "from matplotlib import pyplot as plt\n",
        "plt.plot(clf.history['loss'])"
      ],
      "metadata": {
        "colab": {
          "base_uri": "https://localhost:8080/",
          "height": 285
        },
        "id": "tEyTGM9T4I5e",
        "outputId": "07d6241f-0024-4354-c044-34ffa17e0c5a"
      },
      "execution_count": null,
      "outputs": [
        {
          "output_type": "execute_result",
          "data": {
            "text/plain": [
              "[<matplotlib.lines.Line2D at 0x7faa607ad350>]"
            ]
          },
          "metadata": {},
          "execution_count": 21
        },
        {
          "output_type": "display_data",
          "data": {
            "text/plain": [
              "<Figure size 432x288 with 1 Axes>"
            ],
            "image/png": "[encoded data removed]"
          },
          "metadata": {
            "needs_background": "light"
          }
        }
      ]
    },
    {
      "cell_type": "code",
      "source": [
        "print('Precision on test data is %.2f' % (precision_score(y_test, y_preds, average=\"macro\",  zero_division=1)))\n",
        "\n",
        "print('Recall on test data is %.2f' %recall_score(y_test, y_preds, average=\"macro\", zero_division=1))\n",
        "\n",
        "print('F1 Score on test data is %.2f' %f1_score(y_test, y_preds, average=\"macro\", zero_division=1))"
      ],
      "metadata": {
        "colab": {
          "base_uri": "https://localhost:8080/"
        },
        "id": "31ewDloTP4KS",
        "outputId": "9c59d56d-8ddb-4fad-b79b-b8c7cb864f87"
      },
      "execution_count": null,
      "outputs": [
        {
          "output_type": "stream",
          "name": "stdout",
          "text": [
            "Precision on test data is 0.76\n",
            "Recall on test data is 0.61\n",
            "F1 Score on test data is 0.55\n"
          ]
        }
      ]
    },
    {
      "cell_type": "code",
      "execution_count": null,
      "metadata": {
        "id": "Ljcsb6_XRgT7",
        "colab": {
          "base_uri": "https://localhost:8080/",
          "height": 358
        },
        "outputId": "b68254d0-3958-4163-be36-a7b0b5495d7a"
      },
      "outputs": [
        {
          "output_type": "error",
          "ename": "AttributeError",
          "evalue": "ignored",
          "traceback": [
            "\u001b[0;31m---------------------------------------------------------------------------\u001b[0m",
            "\u001b[0;31mAttributeError\u001b[0m                            Traceback (most recent call last)",
            "\u001b[0;32m<ipython-input-29-0aa9d17b0c71>\u001b[0m in \u001b[0;36m<module>\u001b[0;34m\u001b[0m\n\u001b[1;32m     17\u001b[0m \u001b[0;34m\u001b[0m\u001b[0m\n\u001b[1;32m     18\u001b[0m \u001b[0;31m# determine best accuracy for test set\u001b[0m\u001b[0;34m\u001b[0m\u001b[0;34m\u001b[0m\u001b[0;34m\u001b[0m\u001b[0m\n\u001b[0;32m---> 19\u001b[0;31m \u001b[0mpreds\u001b[0m \u001b[0;34m=\u001b[0m \u001b[0mclf1_nopreproc\u001b[0m\u001b[0;34m.\u001b[0m\u001b[0mpredict\u001b[0m\u001b[0;34m(\u001b[0m\u001b[0mx_test\u001b[0m\u001b[0;34m)\u001b[0m\u001b[0;34m\u001b[0m\u001b[0;34m\u001b[0m\u001b[0m\n\u001b[0m\u001b[1;32m     20\u001b[0m \u001b[0mtest_acc\u001b[0m \u001b[0;34m=\u001b[0m \u001b[0maccuracy_score\u001b[0m\u001b[0;34m(\u001b[0m\u001b[0mpreds\u001b[0m\u001b[0;34m,\u001b[0m \u001b[0my_test\u001b[0m\u001b[0;34m)\u001b[0m\u001b[0;34m\u001b[0m\u001b[0;34m\u001b[0m\u001b[0m\n\u001b[1;32m     21\u001b[0m \u001b[0;34m\u001b[0m\u001b[0m\n",
            "\u001b[0;32m/usr/local/lib/python3.7/dist-packages/pytorch_tabnet/abstract_model.py\u001b[0m in \u001b[0;36mpredict\u001b[0;34m(self, X)\u001b[0m\n\u001b[1;32m    274\u001b[0m             \u001b[0mPredictions\u001b[0m \u001b[0mof\u001b[0m \u001b[0mthe\u001b[0m \u001b[0mregression\u001b[0m \u001b[0mproblem\u001b[0m\u001b[0;34m\u001b[0m\u001b[0;34m\u001b[0m\u001b[0m\n\u001b[1;32m    275\u001b[0m         \"\"\"\n\u001b[0;32m--> 276\u001b[0;31m         \u001b[0mself\u001b[0m\u001b[0;34m.\u001b[0m\u001b[0mnetwork\u001b[0m\u001b[0;34m.\u001b[0m\u001b[0meval\u001b[0m\u001b[0;34m(\u001b[0m\u001b[0;34m)\u001b[0m\u001b[0;34m\u001b[0m\u001b[0;34m\u001b[0m\u001b[0m\n\u001b[0m\u001b[1;32m    277\u001b[0m         dataloader = DataLoader(\n\u001b[1;32m    278\u001b[0m             \u001b[0mPredictDataset\u001b[0m\u001b[0;34m(\u001b[0m\u001b[0mX\u001b[0m\u001b[0;34m)\u001b[0m\u001b[0;34m,\u001b[0m\u001b[0;34m\u001b[0m\u001b[0;34m\u001b[0m\u001b[0m\n",
            "\u001b[0;31mAttributeError\u001b[0m: 'TabNetClassifier' object has no attribute 'network'"
          ]
        }
      ],
      "source": [
        "from matplotlib import pyplot as plt\n",
        "from sklearn.metrics import accuracy_score, precision_score, recall_score, f1_score\n",
        "\n",
        "# # plot losses\n",
        "# plt.plot(clf1_nopreproc.history['loss'])\n",
        "\n",
        "# # plot accuracy\n",
        "# plt.plot(clf1_nopreproc.history['train_accuracy'])\n",
        "# plt.plot(clf1_nopreproc.history['valid_accuracy'])\n",
        "\n",
        "# find and plot feature importance\n",
        "y_pred = clf1_nopreproc.predict(x_test)\n",
        "clf1_nopreproc.feature_importances_\n",
        "feat_importances = pd.Series(clf1_nopreproc.feature_importances_, index=feat.columns)\n",
        "feat_importances.nlargest(20).plot(kind='barh')\n",
        "\n",
        "\n",
        "# determine best accuracy for test set\n",
        "preds = clf1_nopreproc.predict(x_test)\n",
        "test_acc = accuracy_score(preds, y_test)\n",
        "\n",
        "# determine best accuracy for validation set\n",
        "preds_valid = clf1_nopreproc.predict(x_val)\n",
        "valid_acc = accuracy_score(preds_valid, y_val)\n",
        "\n",
        "print(f\"BEST ACCURACY SCORE ON VALIDATION SET : {valid_acc}\")\n",
        "print(f\"BEST ACCURACY SCORE ON TEST SET : {test_acc}\")"
      ]
    },
    {
      "cell_type": "markdown",
      "metadata": {
        "id": "e5Xp0szsDM4b"
      },
      "source": [
        "Test XgBoost"
      ]
    },
    {
      "cell_type": "code",
      "execution_count": null,
      "metadata": {
        "id": "lPFbHAFrDMit"
      },
      "outputs": [],
      "source": [
        "# import xgboost as xgb\n",
        "# xgb_cl = xgb.XGBClassifier()\n",
        "# type(xgb_cl)"
      ]
    },
    {
      "cell_type": "code",
      "execution_count": null,
      "metadata": {
        "id": "O24cAsvFDS8H"
      },
      "outputs": [],
      "source": [
        "# xgb_cl.fit(X_train, y_train.values.ravel())"
      ]
    },
    {
      "cell_type": "code",
      "execution_count": null,
      "metadata": {
        "id": "XI7l43E_DUWH"
      },
      "outputs": [],
      "source": [
        "# preds = xgb_cl.predict(X_test)"
      ]
    },
    {
      "cell_type": "code",
      "execution_count": null,
      "metadata": {
        "id": "h_m5GhrpDVxZ"
      },
      "outputs": [],
      "source": [
        "# from sklearn.metrics import accuracy_score, precision_score, recall_score, f1_score\n",
        "# accuracy_score(y_test, preds)"
      ]
    },
    {
      "cell_type": "code",
      "execution_count": null,
      "metadata": {
        "id": "KkV2N2k4Nk7J"
      },
      "outputs": [],
      "source": [
        "# precision_score(y_test, preds, average=\"macro\",  zero_division=1)"
      ]
    },
    {
      "cell_type": "code",
      "execution_count": null,
      "metadata": {
        "id": "jdAMw13ANomB"
      },
      "outputs": [],
      "source": [
        "recall_score(y_test, preds, average=\"macro\", zero_division=1)"
      ]
    },
    {
      "cell_type": "markdown",
      "metadata": {
        "id": "00hJl2DeEZoQ"
      },
      "source": [
        "Test SVM"
      ]
    },
    {
      "cell_type": "code",
      "execution_count": null,
      "metadata": {
        "id": "Coy0fFrpEcCX"
      },
      "outputs": [],
      "source": [
        "# from sklearn import svm\n",
        "# clf = svm.SVC(kernel='rbf')\n"
      ]
    },
    {
      "cell_type": "code",
      "execution_count": null,
      "metadata": {
        "id": "vqyHttxcEoOs"
      },
      "outputs": [],
      "source": [
        "# clf.fit(X_train, y_train.values.ravel())\n",
        "# y_pred = clf.predict(X_test)"
      ]
    },
    {
      "cell_type": "code",
      "execution_count": null,
      "metadata": {
        "id": "eFNghEMFEqRK"
      },
      "outputs": [],
      "source": [
        "# accuracy_score(y_test, y_pred) "
      ]
    },
    {
      "cell_type": "code",
      "execution_count": null,
      "metadata": {
        "id": "QvWr3VJV0Vlw"
      },
      "outputs": [],
      "source": [
        "# import tensorflow as tf\n",
        "# from tensorflow.keras.datasets import imdb\n",
        "# from tensorflow.keras.models import Sequential\n",
        "# from tensorflow.keras.layers import Dense\n",
        "# from tensorflow.keras.layers import LSTM\n",
        "# from tensorflow.keras.layers import Embedding\n",
        "# from tensorflow.keras.preprocessing import sequence\n",
        "# # fix random seed for reproducibility\n",
        "# tf.random.set_seed(7)"
      ]
    },
    {
      "cell_type": "code",
      "execution_count": null,
      "metadata": {
        "id": "DHeIgNLW0kE5"
      },
      "outputs": [],
      "source": [
        "# # create the model\n",
        "# embedding_vecor_length = 32\n",
        "# model = Sequential()\n",
        "# model.add(LSTM(100))\n",
        "# model.add(Dense(1, activation='sigmoid'))\n",
        "# model.compile(loss='binary_crossentropy', optimizer='adam', metrics=['accuracy'])\n",
        "# print(model.summary())\n",
        "# model.fit(X_train, y_train, validation_data=(X_test, y_test), epochs=3, batch_size=64)"
      ]
    }
  ],
  "metadata": {
    "colab": {
      "provenance": [],
      "include_colab_link": true
    },
    "kernelspec": {
      "display_name": "Python 3",
      "name": "python3"
    },
    "language_info": {
      "name": "python"
    }
  },
  "nbformat": 4,
  "nbformat_minor": 0
}